# -*- coding: utf-8 -*-
"""
Created on Sun Sep  6 14:11:45 2020

@author: Sourav Singh
"""


for alt in range(1000,10000):
    alt=int(input("Enter the Altitude:"))
    if alt==1000:
        print("Safe to Land")
    elif alt>1000 and alt<5000:
        print("Bring down to 1000")
    else:
        print("Turn Around")